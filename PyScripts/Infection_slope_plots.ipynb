{
 "cells": [
  {
   "cell_type": "markdown",
   "metadata": {},
   "source": [
    "# Does the number of presented infections depends on the number of MHC genes - regression slope analysis?"
   ]
  },
  {
   "cell_type": "code",
   "execution_count": 4,
   "metadata": {},
   "outputs": [],
   "source": [
    "import sys\n",
    "import os\n",
    "import numpy as np\n",
    "import matplotlib.pyplot as plt"
   ]
  },
  {
   "cell_type": "code",
   "execution_count": 5,
   "metadata": {
    "collapsed": true
   },
   "outputs": [],
   "source": [
    "sys.path.append(\"/home/piotr/Documents/Projects/mhcevolution/PyScripts/\")"
   ]
  },
  {
   "cell_type": "code",
   "execution_count": 6,
   "metadata": {
    "collapsed": true
   },
   "outputs": [],
   "source": [
    "import infection_vs_MHC_stats as ims"
   ]
  },
  {
   "cell_type": "code",
   "execution_count": 17,
   "metadata": {},
   "outputs": [],
   "source": [
    "#help(ims.importComputedData)"
   ]
  },
  {
   "cell_type": "code",
   "execution_count": 8,
   "metadata": {
    "collapsed": true
   },
   "outputs": [],
   "source": [
    "data = ims.importComputedData(\"0.02_infections.csv\")"
   ]
  },
  {
   "cell_type": "code",
   "execution_count": 27,
   "metadata": {},
   "outputs": [
    {
     "name": "stdout",
     "output_type": "stream",
     "text": [
      "There are 30 data entries in total\n",
      "\n",
      "[('VAR', '<f8'), ('VARX', '<f8'), ('slope', '<f8'), ('intercept', '<f8'), ('R2', '<f8'), ('p', '<f8'), ('sd_err', '<f8'), ('pathoNumb', '<f8')]\n",
      "[ (  5.00000000e-05,   8.,  -3.67800000e-02,  1.5712   ,   3.72520000e-02,   7.42240000e-010,  0.0059157,   8.)\n",
      " (  5.00000000e-05,   8.,  -2.17210000e-02,  1.1225   ,   1.91300000e-02,   1.12520000e-005,  0.004921 ,   8.)\n",
      " (  5.00000000e-05,   8.,  -5.58080000e-03,  0.79655  ,   3.06350000e-04,   5.80180000e-001,  0.010086 ,   8.)\n",
      " (  5.00000000e-05,   8.,  -3.59500000e-03,  0.040021 ,   5.71020000e-04,   4.50130000e-001,  0.0047585,   8.)\n",
      " (  5.00000000e-05,   8.,   1.08120000e-04,  0.0037947,   1.07690000e-05,   9.17410000e-001,  0.0010424,   8.)\n",
      " (  5.00000000e-05,   8.,   1.48070000e-02,  0.80483  ,   2.14810000e-02,   3.21790000e-006,  0.0031618,   8.)\n",
      " (  5.00000000e-05,   8.,   1.78210000e-02, -0.22467  ,   7.71130000e-03,   5.43240000e-003,  0.0063959,   8.)\n",
      " (  5.00000000e-05,   8.,   2.19520000e-02,  0.78729  ,   2.29640000e-02,   1.46200000e-006,  0.0045302,   8.)\n",
      " (  5.00000000e-05,   8.,   3.74660000e-02,  0.40184  ,   6.72710000e-02,   7.50080000e-017,  0.0044138,   8.)\n",
      " (  5.00000000e-05,   8.,   8.69040000e-02, -0.49112  ,   2.60680000e-02,   2.81300000e-007,  0.016806 ,   8.)\n",
      " (  5.00000000e-05,   8.,   9.91980000e-02, -0.67997  ,   4.60850000e-02,   6.70940000e-012,  0.014279 ,   8.)\n",
      " (  5.00000000e-05,   8.,   1.19280000e-01,  0.33519  ,   7.22720000e-02,   4.94150000e-018,  0.013521 ,   8.)\n",
      " (  5.00000000e-05,   8.,   1.90510000e-01, -0.69271  ,   7.41750000e-02,   1.74890000e-018,  0.021294 ,   8.)\n",
      " (  5.00000000e-05,   8.,   3.12010000e-01, -1.5497   ,   2.60100000e-01,   2.21790000e-067,  0.01665  ,   8.)\n",
      " (  5.00000000e-05,   8.,   4.92020000e-01, -3.458    ,   1.93520000e-01,   1.26260000e-048,  0.031779 ,   8.)\n",
      " (  5.00000000e-05,  16.,   6.06100000e-03,  1.3373   ,   5.28000000e-04,   4.67720000e-001,  0.0083431,  16.)\n",
      " (  5.00000000e-05,  16.,   7.72790000e-03,  1.0572   ,   1.12660000e-03,   2.88720000e-001,  0.0072803,  16.)\n",
      " (  5.00000000e-05,  16.,   3.75280000e-02,  0.58199  ,   1.57810000e-02,   6.73870000e-005,  0.0093769,  16.)\n",
      " (  5.00000000e-05,  16.,   6.82890000e-02,  0.8164   ,   2.61520000e-02,   2.69000000e-007,  0.013184 ,  16.)\n",
      " (  5.00000000e-05,  16.,   1.16040000e-01, -0.14914  ,   7.33370000e-02,   2.76420000e-018,  0.01305  ,  16.)\n",
      " (  5.00000000e-05,  16.,   1.37760000e-01,  0.24941  ,   2.28430000e-01,   2.92710000e-058,  0.0080107,  16.)\n",
      " (  5.00000000e-05,  16.,   1.71960000e-01, -0.79637  ,   2.64510000e-01,   1.10880000e-068,  0.009072 ,  16.)\n",
      " (  5.00000000e-05,  16.,   1.74800000e-01,  0.19819  ,   1.30340000e-01,   3.52200000e-032,  0.014286 ,  16.)\n",
      " (  5.00000000e-05,  16.,   1.95300000e-01, -0.57539  ,   5.39270000e-01,   2.66920000e-170,  0.0057114,  16.)\n",
      " (  5.00000000e-05,  16.,   2.48160000e-01, -1.7115   ,   3.48170000e-01,   6.18470000e-095,  0.010743 ,  16.)\n",
      " (  5.00000000e-05,  16.,   2.72770000e-01, -0.49212  ,   7.09550000e-01,   1.90220000e-270,  0.0055214,  16.)\n",
      " (  5.00000000e-05,  16.,   2.74740000e-01, -0.78358  ,   7.16760000e-01,   6.64720000e-276,  0.0054643,  16.)\n",
      " (  5.00000000e-05,  16.,   3.41680000e-01, -3.0883   ,   4.15430000e-01,   1.34180000e-118,  0.012823 ,  16.)\n",
      " (  5.00000000e-05,  16.,   3.48800000e-01, -1.9931   ,   2.90440000e-01,   1.73070000e-076,  0.017249 ,  16.)\n",
      " (  5.00000000e-05,  16.,   4.63940000e-01, -2.3036   ,   5.49750000e-01,   2.69190000e-175,  0.013284 ,  16.)]\n"
     ]
    }
   ],
   "source": [
    "print(\"There are\", len(data), 'data entries in total\\n')\n",
    "print(data.dtype)\n",
    "print(data)"
   ]
  },
  {
   "cell_type": "code",
   "execution_count": 18,
   "metadata": {},
   "outputs": [
    {
     "data": {
      "image/png": "[encoded data removed]",
      "text/plain": [
       "<matplotlib.figure.Figure at 0x7f521f5d5ac8>"
      ]
     },
     "metadata": {},
     "output_type": "display_data"
    }
   ],
   "source": [
    "ims.plotBoxesSlopes(data, \"number of pathogen species\")"
   ]
  },
  {
   "cell_type": "code",
   "execution_count": null,
   "metadata": {
    "collapsed": true
   },
   "outputs": [],
   "source": []
  }
 ],
 "metadata": {
  "kernelspec": {
   "display_name": "Python 3",
   "language": "python",
   "name": "python3"
  },
  "language_info": {
   "codemirror_mode": {
    "name": "ipython",
    "version": 3
   },
   "file_extension": ".py",
   "mimetype": "text/x-python",
   "name": "python",
   "nbconvert_exporter": "python",
   "pygments_lexer": "ipython3",
   "version": "3.6.1"
  }
 },
 "nbformat": 4,
 "nbformat_minor": 2
}
